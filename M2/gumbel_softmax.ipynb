{
 "cells": [
  {
   "cell_type": "code",
   "execution_count": null,
   "metadata": {
    "collapsed": true
   },
   "outputs": [],
   "source": [
    "import os\n",
    "from os.path import join, exists\n",
    "import torch\n",
    "import torch.nn.functional as F\n",
    "import numpy as np\n",
    "import matplotlib.pyplot as plt\n",
    "plt.style.use(\"ggplot\")"
   ]
  },
  {
   "cell_type": "code",
   "execution_count": null,
   "metadata": {
    "collapsed": true
   },
   "outputs": [],
   "source": [
    "def sample_gumbel(shape, eps=1e-20):\n",
    "    U = torch.rand(shape)\n",
    "    return -torch.log(-torch.log(U + eps) + eps)\n",
    "\n",
    "def categorical_sampling(pi, shape, eps=1e-20):\n",
    "    g = sample_gumbel(shape)\n",
    "    z = torch.eye(shape[1])[(torch.log(pi+eps) + g).max(1)[1]]\n",
    "    return z\n",
    "\n",
    "def gumbel_softmax_sampling(pi, shape, tau, eps=1e-20):\n",
    "    log_pi = torch.log(pi + eps)\n",
    "    g = sample_gumbel(shape)\n",
    "    y = F.softmax((log_pi + g)/tau, dim=1)\n",
    "    return y"
   ]
  },
  {
   "cell_type": "code",
   "execution_count": null,
   "metadata": {
    "scrolled": true
   },
   "outputs": [],
   "source": [
    "plt.title(\"gumbel sampling\")\n",
    "plt.hist(sample_gumbel(1000), bins=50, normed=True)\n",
    "plt.ylim(0, 1)\n",
    "plt.show()"
   ]
  },
  {
   "cell_type": "code",
   "execution_count": null,
   "metadata": {},
   "outputs": [],
   "source": [
    "pi = torch.Tensor([0.1, 0.6, 0.1, 0.01, 0.0001, 0.1899])\n",
    "shape = (100, 6)\n",
    "plt.title(r\"$\\pi$\", fontsize=20)\n",
    "plt.bar(np.arange(1, 7), pi)\n",
    "plt.ylim(0, 1)\n",
    "plt.show()"
   ]
  },
  {
   "cell_type": "code",
   "execution_count": null,
   "metadata": {
    "scrolled": true
   },
   "outputs": [],
   "source": [
    "categorical_sample_path = \"./logs/categorical_samples\"\n",
    "if not exists(categorical_sample_path):\n",
    "    os.makedirs(categorical_sample_path)\n",
    "for i, z in enumerate(categorical_sampling(pi, shape)):\n",
    "    plt.bar(np.arange(1, 7), z, color=\"orange\")\n",
    "    plt.title(\"categorical sampling {}\".format(i+1))\n",
    "    plt.ylim(0, 1)\n",
    "    plt.savefig(join(categorical_sample_path, \"{}.png\".format(i)))\n",
    "    plt.show()"
   ]
  },
  {
   "cell_type": "code",
   "execution_count": null,
   "metadata": {
    "collapsed": true
   },
   "outputs": [],
   "source": [
    "def bar_plot_gumbel_softmax(tau):\n",
    "    gumbel_softmax_sample_path = \"./logs/gumbel_softmax_samples_{}\".format(tau)\n",
    "    if not exists(gumbel_softmax_sample_path):\n",
    "        os.makedirs(gumbel_softmax_sample_path)\n",
    "    for i, z in enumerate(gumbel_softmax_sampling(pi, shape, tau)):\n",
    "        plt.bar(np.arange(1, 7), z, color=\"pink\")\n",
    "        plt.title(r\"gumbel softmax sampling {} ($\\tau$={})\".format(i, tau))\n",
    "        plt.ylim(0, 1)\n",
    "        plt.savefig(join(gumbel_softmax_sample_path, \"{}.png\".format(i)))\n",
    "        plt.show()"
   ]
  },
  {
   "cell_type": "code",
   "execution_count": null,
   "metadata": {},
   "outputs": [],
   "source": [
    "bar_plot_gumbel_softmax(0.1)\n",
    "bar_plot_gumbel_softmax(0.5)\n",
    "bar_plot_gumbel_softmax(1)\n",
    "bar_plot_gumbel_softmax(10)\n",
    "bar_plot_gumbel_softmax(100)"
   ]
  }
 ],
 "metadata": {
  "kernelspec": {
   "display_name": "Python 3",
   "language": "python",
   "name": "python3"
  },
  "language_info": {
   "codemirror_mode": {
    "name": "ipython",
    "version": 3
   },
   "file_extension": ".py",
   "mimetype": "text/x-python",
   "name": "python",
   "nbconvert_exporter": "python",
   "pygments_lexer": "ipython3",
   "version": "3.6.2"
  }
 },
 "nbformat": 4,
 "nbformat_minor": 2
}
