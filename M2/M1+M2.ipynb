{
 "cells": [
  {
   "cell_type": "code",
   "execution_count": null,
   "metadata": {},
   "outputs": [],
   "source": [
    "import os\n",
    "import time\n",
    "import json\n",
    "import argparse\n",
    "from os.path import join, exists, splitext, basename\n",
    "from imp import reload\n",
    "from glob import glob\n",
    "import shutil\n",
    "from itertools import cycle\n",
    "from imp import reload\n",
    "\n",
    "import numpy as np\n",
    "\n",
    "import torch\n",
    "import torch.utils.data\n",
    "from torch import nn, optim\n",
    "from torch.nn import functional as F\n",
    "from torchvision import datasets, transforms\n",
    "from torch.utils.data import DataLoader\n",
    "from tqdm import tqdm\n",
    "\n",
    "import matplotlib.pyplot as plt\n",
    "\n",
    "from pixyz.models import Model\n",
    "from pixyz.losses import ELBO, NLL\n",
    "\n",
    "import models\n",
    "from models import *\n",
    "import utils \n",
    "from utils import * \n",
    "\n",
    "batch_size = 128\n",
    "epochs = 10\n",
    "\n",
    "plt.style.use(\"ggplot\")\n",
    "\n",
    "device = torch.device(\"cuda\" if torch.cuda.is_available() else \"cpu\")\n",
    "\n",
    "log_dir = \"./logs/mnist_gif_m1m2\"\n",
    "if not exists(log_dir):\n",
    "    os.makedirs(log_dir)"
   ]
  },
  {
   "cell_type": "code",
   "execution_count": null,
   "metadata": {},
   "outputs": [],
   "source": [
    "# data loader\n",
    "seed = 4200\n",
    "\n",
    "mnist_labeled_path  = \"./data/labeled_mnist_image\"\n",
    "if exists(mnist_labeled_path):\n",
    "    shutil.rmtree(mnist_labeled_path)\n",
    "for i in range(10):\n",
    "    os.makedirs(join(mnist_labeled_path, \"{}\".format(i)))\n",
    "\n",
    "batch_size = 100\n",
    "\n",
    "transform = transforms.Compose([\n",
    "    transforms.ToTensor()\n",
    "])\n",
    "\n",
    "dataset = datasets.MNIST('data/mnist', train=True, download=True, transform=transform)\n",
    "unlabel_loader = DataLoader(dataset, batch_size=batch_size, shuffle=True)\n",
    "\n",
    "dataset_test = datasets.MNIST('data/mnist', train=False, download=True, transform=transform)\n",
    "test_loader = DataLoader(dataset_test, batch_size=batch_size, shuffle=False)\n",
    "\n",
    "dataset = datasets.MNIST('data/mnist', train=True, download=True)\n",
    "\n",
    "for i in range(seed, len(dataset)):\n",
    "    for j in range(10):\n",
    "        if (dataset[i][1]==j) and (len(glob(join(mnist_labeled_path, \"{}/*\".format(j)))) < 10):\n",
    "            dataset[i][0].save(join(mnist_labeled_path, \"{}/{}.png\".format(j, i)))\n",
    "    if len(glob(join(mnist_labeled_path, \"*/*\"))) == 100:\n",
    "        break\n",
    "\n",
    "        \n",
    "labeled_dataset = datasets.ImageFolder(mnist_labeled_path, transform=transform)\n",
    "label_loader = DataLoader(labeled_dataset, batch_size=batch_size, shuffle=True)"
   ]
  },
  {
   "cell_type": "code",
   "execution_count": null,
   "metadata": {},
   "outputs": [],
   "source": [
    "# ラベルつきデータの表示\n",
    "samples, labels = iter(label_loader).next()\n",
    "argsort = np.argsort(labels)\n",
    "samples = samples[argsort]\n",
    "samples = samples.cpu().data.numpy().transpose(0, 2, 3, 1).squeeze()\n",
    "\n",
    "# 横軸 z固定, y変化\n",
    "# 縦軸 z変化, y固定\n",
    "plt.figure(figsize=(10, 10))\n",
    "for i in range(100):\n",
    "    plt.subplot(10, 10, i+1)\n",
    "    plt.xticks([])\n",
    "    plt.yticks([])\n",
    "    plt.subplots_adjust(wspace=0., hspace=0.)\n",
    "    plt.imshow(samples[i], cmap=plt.cm.gray)\n",
    "plt.show()\n"
   ]
  },
  {
   "cell_type": "code",
   "execution_count": null,
   "metadata": {},
   "outputs": [],
   "source": [
    "z_dim = 63\n",
    "z2_dim = 20\n",
    "\n",
    "# prior model p(z2)\n",
    "loc = torch.tensor(0.).to(device)\n",
    "scale = torch.tensor(1.).to(device)\n",
    "prior_m2 = Normal(loc=loc, scale=scale, var=[\"z2\"], dim=z2_dim)\n",
    "\n",
    "# prior model p(z)\n",
    "loc = torch.tensor(0.).to(device)\n",
    "scale = torch.tensor(1.).to(device)\n",
    "prior_m1 = Normal(loc=loc, scale=scale, var=[\"z\"], dim=z_dim)\n",
    "\n",
    "# initialize network\n",
    "E_m1 = Encoder_m1().to(device)\n",
    "D_m1 = Decoder_m1().to(device)\n",
    "E_m2 = LatentEncoder().to(device)\n",
    "D_m2 = LatentDecoder().to(device)\n",
    "C_m2 = LatentClassifier().to(device)\n",
    "\n",
    "D_j_m1 = D_m1 * prior_m1\n",
    "D_j_m1.to(device)\n",
    "\n",
    "D_j_m2 = D_m2 * prior_m2\n",
    "D_j_m2.to(device)\n",
    "\n",
    "\n",
    "# distributions for unsupervised learning\n",
    "Eu_m1 = E_m1.replace_var(x=\"x_u\")\n",
    "Du_m1 = D_m1.replace_var(x=\"x_u\")\n",
    "Eu_m2 = E_m2.replace_var(z=\"z_u\", y=\"y_u\")\n",
    "Du_m2 = D_m2.replace_var(z=\"z_u\", y=\"y_u\")\n",
    "Cu = C_m2.replace_var(z=\"z_u\", y=\"y_u\")\n",
    "ECu = Eu_m2 * Cu\n",
    "\n",
    "Du_j_m1 = Du_m1 * prior_m1\n",
    "Du_j_m1.to(device)\n",
    "\n",
    "Du_j_m2 = Du_m2 * prior_m2\n",
    "Du_j_m2.to(device)\n",
    "\n",
    "ECu.to(device)\n",
    "Cu.to(device)\n"
   ]
  },
  {
   "cell_type": "code",
   "execution_count": null,
   "metadata": {},
   "outputs": [],
   "source": [
    "elbo_u_m1 = ELBO(Du_j_m1, Eu_m1)\n",
    "elbo_m1 = ELBO(D_j_m1, E_m1)\n",
    "elbo_u_m2 = ELBO(Du_j_m2, ECu)\n",
    "elbo_m2 = ELBO(D_j_m2, E_m2)\n",
    "nll = NLL(C_m2)\n",
    "\n",
    "rate = 1 * (len(unlabel_loader) + len(label_loader)) / len(label_loader)\n",
    "\n",
    "loss_m1 = -elbo_u_m1.mean() #-elbo_m1.mean()\n",
    "loss_m2 = -elbo_u_m2.mean() -elbo_m2.mean() + (rate * nll).mean() \n",
    "\n",
    "\n",
    "# 最適化\n",
    "model1 = Model(loss_m1,distributions=[E_m1, D_m1], optimizer=optim.Adam, optimizer_params={\"lr\":1e-3})\n",
    "print(model1)\n",
    "\n",
    "# 最適化\n",
    "model2 = Model(loss_m2,test_loss=nll.mean(),\n",
    "              distributions=[E_m2, D_m2, C_m2], optimizer=optim.Adam, optimizer_params={\"lr\":5e-4})\n",
    "print(model2)"
   ]
  },
  {
   "cell_type": "code",
   "execution_count": null,
   "metadata": {},
   "outputs": [],
   "source": [
    "train_hist = {}\n",
    "train_hist[\"precision\"] = []\n",
    "\n",
    "# M1 training\n",
    "for epoch in range(20):\n",
    "    train_loss = 0\n",
    "    for x_u, _ in tqdm(unlabel_loader):\n",
    "        x_u = x_u.to(device)        \n",
    "        loss = model1.train({\"x_u\": x_u})\n",
    "        train_loss += loss\n",
    "        \n",
    "    train_loss = train_loss * unlabel_loader.batch_size / len(unlabel_loader.dataset)\n",
    "    print('Epoch: {} Train loss: {:.4f}'.format(epoch, train_loss))\n",
    "    plot_sample_m1(D_m1, epoch)"
   ]
  },
  {
   "cell_type": "markdown",
   "metadata": {},
   "source": [
    " -(mean(E_p(z2,y_u|z_u)[log p(z_u,z2|y_u)/p(z2,y_u|z_u)])) - mean(E_q(z2|z,y)[log p(z,z2|y)/q(z2|z,y)]) + mean(log q(y|z) * 601.0) "
   ]
  },
  {
   "cell_type": "code",
   "execution_count": null,
   "metadata": {},
   "outputs": [],
   "source": [
    "E_m2.sample({\"y\": y, \"z\": z})"
   ]
  },
  {
   "cell_type": "code",
   "execution_count": null,
   "metadata": {},
   "outputs": [],
   "source": [
    "D_j_m2.prob_text"
   ]
  },
  {
   "cell_type": "markdown",
   "metadata": {},
   "source": [
    " (z_2*y).shape\n",
    "torch.Size([100, 10])\n",
    "\n",
    "ipdb> y.shape\n",
    "torch.Size([100, 10])\n",
    "ipdb> z_2.shape\n",
    "torch.Size([1, 10])\n",
    "ipdb> z_1.shape\n",
    "torch.Size([1, 40])"
   ]
  },
  {
   "cell_type": "code",
   "execution_count": null,
   "metadata": {},
   "outputs": [],
   "source": [
    "%debug\n",
    "D_j_m2.sample({\"y\": y})"
   ]
  },
  {
   "cell_type": "code",
   "execution_count": null,
   "metadata": {
    "scrolled": true
   },
   "outputs": [],
   "source": [
    "# M2 training\n",
    "for epoch in range(100):\n",
    "    train_loss = 0\n",
    "    for (x, y), (x_u, y_u) in tqdm(zip(cycle(label_loader), unlabel_loader), total=len(unlabel_loader)):\n",
    "        x = x[:, 0:1].to(device)\n",
    "        y = torch.eye(10)[y].to(device)\n",
    "        x_u = x_u.to(device)        \n",
    "        z = E_m1.sample({\"x\": x})[\"z\"]\n",
    "        z_u = Eu_m1.sample({\"x_u\": x_u})[\"z\"]\n",
    "        loss = model2.train({\"y\": y, \"z\": z, \"z_u\": z_u})\n",
    "        train_loss += loss\n",
    "        \n",
    "    train_loss = train_loss * unlabel_loader.batch_size / len(unlabel_loader.dataset)\n",
    "    print('Epoch: {} Train loss: {:.4f}'.format(epoch, train_loss))\n",
    "    train_hist[\"precision\"].append(compute_precision_m1(C_m2, E_m1, test_loader))\n",
    "    plot_sample_m1m2(D_m2, D_m1, epoch)\n",
    "    plot_loss(train_hist)\n"
   ]
  },
  {
   "cell_type": "code",
   "execution_count": null,
   "metadata": {},
   "outputs": [],
   "source": []
  },
  {
   "cell_type": "code",
   "execution_count": null,
   "metadata": {},
   "outputs": [],
   "source": []
  },
  {
   "cell_type": "code",
   "execution_count": null,
   "metadata": {},
   "outputs": [],
   "source": []
  },
  {
   "cell_type": "code",
   "execution_count": null,
   "metadata": {},
   "outputs": [],
   "source": [
    "reload(models)\n",
    "reload(utils)\n",
    "from models import * \n",
    "from utils import *"
   ]
  }
 ],
 "metadata": {
  "kernelspec": {
   "display_name": "Python 3",
   "language": "python",
   "name": "python3"
  },
  "language_info": {
   "codemirror_mode": {
    "name": "ipython",
    "version": 3
   },
   "file_extension": ".py",
   "mimetype": "text/x-python",
   "name": "python",
   "nbconvert_exporter": "python",
   "pygments_lexer": "ipython3",
   "version": "3.5.5"
  }
 },
 "nbformat": 4,
 "nbformat_minor": 2
}
