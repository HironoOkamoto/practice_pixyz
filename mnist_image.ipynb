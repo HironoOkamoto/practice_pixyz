{
 "cells": [
  {
   "cell_type": "code",
   "execution_count": 1,
   "metadata": {
    "collapsed": true
   },
   "outputs": [],
   "source": [
    "import os\n",
    "import time\n",
    "import json\n",
    "import argparse\n",
    "from os.path import join, exists, splitext, basename\n",
    "from imp import reload\n",
    "from glob import glob\n",
    "\n",
    "import datetime\n",
    "import pickle\n",
    "\n",
    "%matplotlib inline\n",
    "import matplotlib.pyplot as plt\n",
    "import numpy as np\n",
    "from numpy.random import RandomState\n",
    "import pandas as pd\n",
    "from sklearn.model_selection import train_test_split\n",
    "from sklearn.metrics import confusion_matrix, classification_report, precision_score\n",
    "from tqdm import tqdm\n",
    "\n",
    "import torch\n",
    "import torch.nn as nn\n",
    "import torch.utils.data\n",
    "import torch.optim as optim\n",
    "from torch.nn import functional as F\n",
    "from torchvision import datasets, transforms\n",
    "from torchvision.utils import save_image\n",
    "from torch.utils.data import DataLoader\n",
    "\n",
    "from imp import reload\n",
    "import models\n",
    "from models import *\n",
    "import utils \n",
    "from utils import * \n",
    "\n",
    "plt.style.use(\"ggplot\")\n",
    "\n",
    "device = torch.device(\"cuda\" if torch.cuda.is_available() else \"cpu\")"
   ]
  },
  {
   "cell_type": "markdown",
   "metadata": {},
   "source": [
    "labeledのみ，folderからとりだして訓練する"
   ]
  },
  {
   "cell_type": "code",
   "execution_count": 2,
   "metadata": {},
   "outputs": [],
   "source": [
    "mnist_labeled_path  = \"./data/labeled_mnist_image\"\n",
    "if not exists(mnist_labeled_path):\n",
    "    for i in range(10):\n",
    "        os.makedirs(join(mnist_labeled_path, \"{}\".format(i)))"
   ]
  },
  {
   "cell_type": "code",
   "execution_count": 3,
   "metadata": {},
   "outputs": [],
   "source": [
    "batch_size = 100\n",
    "\n",
    "transform = transforms.Compose([\n",
    "    transforms.ToTensor()\n",
    "])\n",
    "\n",
    "dataset = datasets.MNIST('data/mnist', train=True, download=True, transform=transform)\n",
    "unlabel_loader = DataLoader(dataset, batch_size=batch_size, shuffle=True)\n",
    "\n",
    "dataset_test = datasets.MNIST('data/mnist', train=False, download=True, transform=transform)\n",
    "test_loader = DataLoader(dataset_test, batch_size=batch_size, shuffle=False)"
   ]
  },
  {
   "cell_type": "code",
   "execution_count": 4,
   "metadata": {},
   "outputs": [],
   "source": [
    "dataset = datasets.MNIST('data/mnist', train=True, download=True)\n",
    "\n",
    "for i in range(len(dataset)):\n",
    "    for j in range(10):\n",
    "        if (dataset[i][1]==j) and (len(glob(join(mnist_labeled_path, \"{}/*\".format(j)))) < 10):\n",
    "            dataset[i][0].save(join(mnist_labeled_path, \"{}/{}.png\".format(j, i)))\n",
    "    if len(glob(join(mnist_labeled_path, \"*/*\"))) == 100:\n",
    "        break\n",
    "        \n",
    "labeled_dataset = datasets.ImageFolder(mnist_labeled_path, transform=transform)\n",
    "label_loader = DataLoader(labeled_dataset, batch_size=batch_size, shuffle=True)"
   ]
  },
  {
   "cell_type": "code",
   "execution_count": 5,
   "metadata": {
    "scrolled": true
   },
   "outputs": [],
   "source": [
    "a, b = iter(label_loader).next()"
   ]
  },
  {
   "cell_type": "code",
   "execution_count": 6,
   "metadata": {},
   "outputs": [
    {
     "data": {
      "image/png": "[encoded data removed]",
      "text/plain": [
       "<matplotlib.figure.Figure at 0x10ce1dac8>"
      ]
     },
     "metadata": {},
     "output_type": "display_data"
    },
    {
     "data": {
      "image/png": "[encoded data removed]",
      "text/plain": [
       "<matplotlib.figure.Figure at 0x10e50d278>"
      ]
     },
     "metadata": {},
     "output_type": "display_data"
    }
   ],
   "source": [
    "for i in range(2):\n",
    "    plt.imshow(a[i][0].detach().cpu().numpy())\n",
    "    plt.show()"
   ]
  },
  {
   "cell_type": "code",
   "execution_count": 7,
   "metadata": {},
   "outputs": [
    {
     "data": {
      "text/plain": [
       "tensor([ 8,  0,  2,  2,  7,  9,  3,  8,  5,  6,  8,  6,  2,  5,\n",
       "         0,  5,  0,  3,  4,  8,  6,  8,  4,  7,  3,  0,  6,  3,\n",
       "         8,  2,  0,  2,  7,  5,  6,  1,  7,  7,  6,  4,  0,  3,\n",
       "         7,  4,  8,  4,  3,  5,  0,  2,  9,  9,  3,  1,  0,  1,\n",
       "         9,  1,  5,  3,  1,  2,  7,  9,  0,  1,  4,  3,  6,  5,\n",
       "         7,  9,  0,  9,  4,  5,  2,  4,  9,  9,  7,  2,  1,  1,\n",
       "         8,  9,  1,  8,  5,  5,  2,  6,  6,  8,  4,  6,  3,  1,\n",
       "         4,  7])"
      ]
     },
     "execution_count": 7,
     "metadata": {},
     "output_type": "execute_result"
    }
   ],
   "source": [
    "b"
   ]
  },
  {
   "cell_type": "code",
   "execution_count": null,
   "metadata": {
    "collapsed": true
   },
   "outputs": [],
   "source": []
  }
 ],
 "metadata": {
  "kernelspec": {
   "display_name": "Python 3",
   "language": "python",
   "name": "python3"
  },
  "language_info": {
   "codemirror_mode": {
    "name": "ipython",
    "version": 3
   },
   "file_extension": ".py",
   "mimetype": "text/x-python",
   "name": "python",
   "nbconvert_exporter": "python",
   "pygments_lexer": "ipython3",
   "version": "3.6.2"
  }
 },
 "nbformat": 4,
 "nbformat_minor": 2
}
