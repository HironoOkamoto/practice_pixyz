{
 "cells": [
  {
   "cell_type": "code",
   "execution_count": null,
   "metadata": {
    "colab": {
     "autoexec": {
      "startup": false,
      "wait_interval": 0
     }
    },
    "colab_type": "code",
    "id": "X0fWovq1E7T_"
   },
   "outputs": [],
   "source": [
    "import os\n",
    "from os.path import join, exists, splitext, basename\n",
    "from imp import reload\n",
    "from glob import glob\n",
    "\n",
    "%matplotlib inline\n",
    "import matplotlib.pyplot as plt\n",
    "import numpy as np\n",
    "from sklearn.model_selection import train_test_split\n",
    "from tqdm import tqdm\n",
    "\n",
    "import torch\n",
    "from torch.nn import Parameter\n",
    "import torch.nn as nn\n",
    "import torch.utils.data\n",
    "import torch.optim as optim\n",
    "from torch.nn import functional as F\n",
    "import torchvision\n",
    "from torchvision import datasets, transforms\n",
    "from torchvision.utils import save_image, make_grid\n",
    "from torch.utils.data import DataLoader\n",
    "\n",
    "from pixyz.distributions import Normal, Bernoulli, Categorical\n",
    "from pixyz.losses import KullbackLeibler, CrossEntropy\n",
    "from pixyz.models import Model, VAE\n",
    "\n",
    "\n",
    "from models import *\n",
    "from utils import *\n",
    "\n",
    "from mnist_A_data_loader import get_mnist_A_loader\n",
    "\n",
    "device = torch.device(\"cuda\" if torch.cuda.is_available() else \"cpu\")\n",
    "print(device)\n",
    "\n",
    "unique_label = []\n",
    "for i in range(2):\n",
    "    for j in range(3):\n",
    "        for k in range(4):\n",
    "            for l in range(10):\n",
    "                unique_label.append([i, j, k, l])\n",
    "unique_label = np.array(unique_label)\n",
    "\n",
    "train_label_attr, test_label_attr = train_test_split(unique_label, random_state=42, test_size=40)\n",
    "valid_label_attr, test_label_attr = train_test_split(test_label_attr, random_state=42, test_size=20)\n",
    "\n",
    "train_loader = get_mnist_A_loader(\"../data/MNIST_A/train_X/\",\n",
    "                                  \"../data/MNIST_A/train_y.npy\", train_label_attr)\n",
    "test_loader = get_mnist_A_loader(\"../data/MNIST_A/test_X/\", \n",
    "                                 \"../data/MNIST_A/test_y.npy\", test_label_attr)\n",
    "valid_loader = get_mnist_A_loader(\"../data/MNIST_A/valid_X/\", \n",
    "                                  \"../data/MNIST_A/valid_y.npy\", valid_label_attr)\n",
    "\n",
    "log_dir = \"./logs\"\n",
    "classifier = MNIST_A_Classifier().to(device)\n",
    "classifier.load_state_dict(torch.load(join(log_dir, 'MNIST_A_classifier.pkl')))\n",
    "classifier.eval()"
   ]
  },
  {
   "cell_type": "code",
   "execution_count": null,
   "metadata": {},
   "outputs": [],
   "source": [
    "z_dim = 64\n",
    "\n",
    "loc = torch.tensor(0.).to(device)\n",
    "scale = torch.tensor(1.).to(device)\n",
    "prior = Normal(loc=loc, scale=scale, var=[\"z\"], dim=z_dim, name=\"p_prior\")\n",
    "\n",
    "p_x = Decoder_X().to(device)\n",
    "p_y = Decoder_Y().to(device)\n",
    "\n",
    "q = Encoder_XY().to(device)\n",
    "q_x = Encoder_X().to(device)\n",
    "q_y = Encoder_Y().to(device)\n",
    "\n",
    "p = p_x * p_y\n",
    "print(p)\n",
    "\n",
    "\n",
    "kl = KullbackLeibler(q, prior)\n",
    "kl_x = KullbackLeibler(q, q_x)\n",
    "kl_y = KullbackLeibler(q, q_y)\n",
    "\n",
    "regularizer = kl + kl_x + kl_y\n",
    "print(regularizer)\n",
    "\n",
    "model = VAE(q, p, other_distributions=[q_x, q_y],\n",
    "            regularizer=regularizer, optimizer=optim.Adam, optimizer_params={\"lr\":1e-3})\n",
    "print(model)\n",
    "\n",
    "experiment_name =  'JMVAE_MNIST_A_z_dim{}'.format(z_dim)"
   ]
  },
  {
   "cell_type": "markdown",
   "metadata": {},
   "source": [
    "# train"
   ]
  },
  {
   "cell_type": "code",
   "execution_count": null,
   "metadata": {
    "scrolled": true
   },
   "outputs": [],
   "source": [
    "#%debug\n",
    "for i in range(3):\n",
    "    for batch_idx, (x, y) in tqdm(enumerate(train_loader)):\n",
    "        x = x.to(device)\n",
    "        y = y.to(device)\n",
    "        loss = model.train({\"x\": x, \"y\": y})\n",
    " \n",
    "        if (batch_idx+1)%1000==0:\n",
    "            print(\"train\")\n",
    "            encoder_plot(train_loader, q_x, p_x, conditional=False)\n",
    "            print(\"valid\")\n",
    "            encoder_plot(valid_loader, q_x, p_x, conditional=False)\n"
   ]
  },
  {
   "cell_type": "code",
   "execution_count": null,
   "metadata": {},
   "outputs": [],
   "source": [
    "torch.save(p_x.state_dict(), join(log_dir, 'px_{}.pkl'.format(experiment_name)))\n",
    "torch.save(p_y.state_dict(), join(log_dir, 'py_{}.pkl'.format(experiment_name)))\n",
    "torch.save(q_x.state_dict(), join(log_dir, 'qx_{}.pkl'.format(experiment_name)))\n",
    "torch.save(q_y.state_dict(), join(log_dir, 'qy_{}.pkl'.format(experiment_name)))\n",
    "torch.save(q.state_dict(), join(log_dir, 'q_{}.pkl'.format(experiment_name)))"
   ]
  },
  {
   "cell_type": "markdown",
   "metadata": {},
   "source": [
    "# 検証\n",
    "\n",
    "- train dataにある属性なら生成できるのか\n",
    "- test dataにある属性は生成できないのか"
   ]
  },
  {
   "cell_type": "code",
   "execution_count": null,
   "metadata": {},
   "outputs": [],
   "source": [
    "p_x.load_state_dict(torch.load(join(log_dir, 'px_{}.pkl'.format(experiment_name))))\n",
    "p_y.load_state_dict(torch.load(join(log_dir, 'py_{}.pkl'.format(experiment_name))))\n",
    "q_x.load_state_dict(torch.load(join(log_dir, 'qx_{}.pkl'.format(experiment_name))))\n",
    "q_y.load_state_dict(torch.load(join(log_dir, 'qy_{}.pkl'.format(experiment_name))))\n",
    "q.load_state_dict(torch.load(join(log_dir, 'q_{}.pkl'.format(experiment_name))))"
   ]
  },
  {
   "cell_type": "markdown",
   "metadata": {},
   "source": [
    "## testデータ"
   ]
  },
  {
   "cell_type": "code",
   "execution_count": null,
   "metadata": {},
   "outputs": [],
   "source": [
    "p_x.eval()\n",
    "p_y.eval()\n",
    "q_x.eval()\n",
    "q_y.eval()\n",
    "q.eval()\n",
    "\n",
    "sample_size = 5\n",
    "attr_size = 10\n",
    "label = []\n",
    "for j in range(attr_size):\n",
    "        for i in range(sample_size):\n",
    "            label.append(test_label_attr[j])\n",
    "label = np.array(label)\n",
    "onehot_label = torch.FloatTensor(label2onehot(np.array(label)))\n",
    "\n",
    "z = q_y.sample({\"y\": onehot_label.to(device)})[\"z\"]\n",
    "samples = p_x.sample_mean({\"z\": z})\n",
    "p_y1, p_y2, p_y3, p_y4 = classifier(samples)\n",
    "pred = onehot2label(torch.cat([p_y1[:, None], p_y2, p_y3, p_y4], 1))\n",
    "samples_ = samples.cpu().data.numpy().transpose(0, 2, 3, 1).squeeze()\n",
    "plt.figure(figsize=(sample_size*3, attr_size*3))\n",
    "for i in range(sample_size*attr_size):\n",
    "    plt.subplot(attr_size, sample_size, i+1)\n",
    "    plt.xticks([])\n",
    "    plt.yticks([])\n",
    "    classifier(samples)\n",
    "    plt.title(\"T: {}, P: {}\".format(label[i], pred[i]))\n",
    "    plt.imshow(samples_[i], plt.cm.gray)\n",
    "plt.show()"
   ]
  },
  {
   "cell_type": "code",
   "execution_count": null,
   "metadata": {
    "scrolled": true
   },
   "outputs": [],
   "source": [
    "# accuracy\n",
    "accuracy_data = (pred == label).sum(1) == 4\n",
    "accuracy_data.sum() / len(accuracy_data)"
   ]
  },
  {
   "cell_type": "markdown",
   "metadata": {},
   "source": [
    "## 訓練データ"
   ]
  },
  {
   "cell_type": "code",
   "execution_count": null,
   "metadata": {},
   "outputs": [],
   "source": [
    "p_x.eval()\n",
    "p_y.eval()\n",
    "q_x.eval()\n",
    "q_y.eval()\n",
    "q.eval()\n",
    "\n",
    "sample_size = 5\n",
    "attr_size = 10\n",
    "label = []\n",
    "for j in range(attr_size):\n",
    "        for i in range(sample_size):\n",
    "            label.append(train_label_attr[j])\n",
    "label = np.array(label)\n",
    "onehot_label = torch.FloatTensor(label2onehot(np.array(label)))\n",
    "\n",
    "z = torch.randn(sample_size*attr_size, z_dim).to(device)\n",
    "z = q_y.sample({\"y\": onehot_label.to(device)})[\"z\"]\n",
    "samples = p_x.sample_mean({\"z\": z})\n",
    "p_y1, p_y2, p_y3, p_y4 = classifier(samples)\n",
    "pred = onehot2label(torch.cat([p_y1[:, None], p_y2, p_y3, p_y4], 1))\n",
    "samples_ = samples.cpu().data.numpy().transpose(0, 2, 3, 1).squeeze()\n",
    "plt.figure(figsize=(sample_size*3, attr_size*3))\n",
    "for i in range(sample_size*attr_size):\n",
    "    plt.subplot(attr_size, sample_size, i+1)\n",
    "    plt.xticks([])\n",
    "    plt.yticks([])\n",
    "    classifier(samples)\n",
    "    plt.title(\"T: {}, P: {}\".format(label[i], pred[i]))\n",
    "    plt.imshow(samples_[i], plt.cm.gray)\n",
    "plt.show()"
   ]
  },
  {
   "cell_type": "code",
   "execution_count": null,
   "metadata": {},
   "outputs": [],
   "source": [
    "# accuracy\n",
    "accuracy_data = (pred == label).sum(1) == 4\n",
    "accuracy_data.sum() / len(accuracy_data)"
   ]
  },
  {
   "cell_type": "code",
   "execution_count": null,
   "metadata": {},
   "outputs": [],
   "source": []
  }
 ],
 "metadata": {
  "accelerator": "GPU",
  "colab": {
   "collapsed_sections": [],
   "default_view": {},
   "name": "180221-variational-autoencoder.ipynb",
   "provenance": [],
   "version": "0.3.2",
   "views": {}
  },
  "kernelspec": {
   "display_name": "Python 3",
   "language": "python",
   "name": "python3"
  },
  "language_info": {
   "codemirror_mode": {
    "name": "ipython",
    "version": 3
   },
   "file_extension": ".py",
   "mimetype": "text/x-python",
   "name": "python",
   "nbconvert_exporter": "python",
   "pygments_lexer": "ipython3",
   "version": "3.5.5"
  }
 },
 "nbformat": 4,
 "nbformat_minor": 1
}
