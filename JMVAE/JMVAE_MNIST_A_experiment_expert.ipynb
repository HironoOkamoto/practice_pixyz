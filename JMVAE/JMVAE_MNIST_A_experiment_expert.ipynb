{
 "cells": [
  {
   "cell_type": "code",
   "execution_count": 1,
   "metadata": {
    "colab": {
     "autoexec": {
      "startup": false,
      "wait_interval": 0
     }
    },
    "colab_type": "code",
    "id": "X0fWovq1E7T_"
   },
   "outputs": [
    {
     "name": "stdout",
     "output_type": "stream",
     "text": [
      "cuda\n"
     ]
    },
    {
     "data": {
      "text/plain": [
       "MNIST_A_Classifier(\n",
       "  (conv_e): Sequential(\n",
       "    (0): Conv2d(1, 32, kernel_size=(4, 4), stride=(2, 2), padding=(1, 1))\n",
       "    (1): BatchNorm2d(32, eps=1e-05, momentum=0.1, affine=True, track_running_stats=True)\n",
       "    (2): LeakyReLU(negative_slope=0.2)\n",
       "    (3): Conv2d(32, 64, kernel_size=(4, 4), stride=(2, 2), padding=(1, 1))\n",
       "    (4): BatchNorm2d(64, eps=1e-05, momentum=0.1, affine=True, track_running_stats=True)\n",
       "    (5): LeakyReLU(negative_slope=0.2)\n",
       "    (6): Conv2d(64, 128, kernel_size=(4, 4), stride=(2, 2), padding=(1, 1))\n",
       "    (7): BatchNorm2d(128, eps=1e-05, momentum=0.1, affine=True, track_running_stats=True)\n",
       "    (8): LeakyReLU(negative_slope=0.2)\n",
       "  )\n",
       "  (fc_e): Sequential(\n",
       "    (0): Linear(in_features=8192, out_features=1024, bias=True)\n",
       "    (1): BatchNorm1d(1024, eps=1e-05, momentum=0.1, affine=True, track_running_stats=True)\n",
       "    (2): LeakyReLU(negative_slope=0.2)\n",
       "    (3): Linear(in_features=1024, out_features=18, bias=True)\n",
       "  )\n",
       ")"
      ]
     },
     "execution_count": 1,
     "metadata": {},
     "output_type": "execute_result"
    }
   ],
   "source": [
    "import os\n",
    "from os.path import join, exists, splitext, basename\n",
    "from imp import reload\n",
    "from glob import glob\n",
    "\n",
    "%matplotlib inline\n",
    "import matplotlib.pyplot as plt\n",
    "import numpy as np\n",
    "from sklearn.model_selection import train_test_split\n",
    "from tqdm import tqdm\n",
    "\n",
    "import torch\n",
    "from torch.nn import Parameter\n",
    "import torch.nn as nn\n",
    "import torch.utils.data\n",
    "import torch.optim as optim\n",
    "from torch.nn import functional as F\n",
    "import torchvision\n",
    "from torchvision import datasets, transforms\n",
    "from torchvision.utils import save_image, make_grid\n",
    "from torch.utils.data import DataLoader\n",
    "\n",
    "from pixyz.distributions import Normal, Bernoulli, Categorical, ProductOfNormal\n",
    "from pixyz.losses import KullbackLeibler, CrossEntropy\n",
    "from pixyz.models import Model, VAE\n",
    "\n",
    "\n",
    "from models import *\n",
    "from utils import *\n",
    "\n",
    "from mnist_A_data_loader import get_mnist_A_loader\n",
    "\n",
    "device = torch.device(\"cuda\" if torch.cuda.is_available() else \"cpu\")\n",
    "print(device)\n",
    "\n",
    "unique_label = []\n",
    "for i in range(2):\n",
    "    for j in range(3):\n",
    "        for k in range(4):\n",
    "            for l in range(10):\n",
    "                unique_label.append([i, j, k, l])\n",
    "unique_label = np.array(unique_label)\n",
    "\n",
    "train_label_attr, test_label_attr = train_test_split(unique_label, random_state=42, test_size=40)\n",
    "valid_label_attr, test_label_attr = train_test_split(test_label_attr, random_state=42, test_size=20)\n",
    "\n",
    "train_loader = get_mnist_A_loader(\"../data/MNIST_A/train_X/\",\n",
    "                                  \"../data/MNIST_A/train_y.npy\", train_label_attr)\n",
    "test_loader = get_mnist_A_loader(\"../data/MNIST_A/test_X/\", \n",
    "                                 \"../data/MNIST_A/test_y.npy\", test_label_attr)\n",
    "valid_loader = get_mnist_A_loader(\"../data/MNIST_A/valid_X/\", \n",
    "                                  \"../data/MNIST_A/valid_y.npy\", valid_label_attr)\n",
    "\n",
    "log_dir = \"./logs\"\n",
    "classifier = MNIST_A_Classifier().to(device)\n",
    "classifier.load_state_dict(torch.load(join(log_dir, 'MNIST_A_classifier.pkl')))\n",
    "classifier.eval()"
   ]
  },
  {
   "cell_type": "code",
   "execution_count": 2,
   "metadata": {
    "scrolled": true
   },
   "outputs": [
    {
     "name": "stdout",
     "output_type": "stream",
     "text": [
      "Distribution:\n",
      "  p(x,y1,y2,y3,y4|z) = p(x|z)p(y1|z)p(y2|z)p(y3|z)p(y4|z)\n",
      "Network architecture:\n",
      "  p(y4|z) (Categorical): Decoder_Y4(\n",
      "    (fc_d): Sequential(\n",
      "      (0): Linear(in_features=256, out_features=1024, bias=True)\n",
      "      (1): BatchNorm1d(1024, eps=1e-05, momentum=0.1, affine=True, track_running_stats=True)\n",
      "      (2): LeakyReLU(negative_slope=0.2)\n",
      "      (3): Linear(in_features=1024, out_features=10, bias=True)\n",
      "    )\n",
      "  )\n",
      "  p(y3|z) (Categorical): Decoder_Y3(\n",
      "    (fc_d): Sequential(\n",
      "      (0): Linear(in_features=256, out_features=1024, bias=True)\n",
      "      (1): BatchNorm1d(1024, eps=1e-05, momentum=0.1, affine=True, track_running_stats=True)\n",
      "      (2): LeakyReLU(negative_slope=0.2)\n",
      "      (3): Linear(in_features=1024, out_features=4, bias=True)\n",
      "    )\n",
      "  )\n",
      "  p(y2|z) (Categorical): Decoder_Y2(\n",
      "    (fc_d): Sequential(\n",
      "      (0): Linear(in_features=256, out_features=1024, bias=True)\n",
      "      (1): BatchNorm1d(1024, eps=1e-05, momentum=0.1, affine=True, track_running_stats=True)\n",
      "      (2): LeakyReLU(negative_slope=0.2)\n",
      "      (3): Linear(in_features=1024, out_features=3, bias=True)\n",
      "    )\n",
      "  )\n",
      "  p(y1|z) (Bernoulli): Decoder_Y1(\n",
      "    (fc_d): Sequential(\n",
      "      (0): Linear(in_features=256, out_features=1024, bias=True)\n",
      "      (1): BatchNorm1d(1024, eps=1e-05, momentum=0.1, affine=True, track_running_stats=True)\n",
      "      (2): LeakyReLU(negative_slope=0.2)\n",
      "      (3): Linear(in_features=1024, out_features=1, bias=True)\n",
      "    )\n",
      "  )\n",
      "  p(x|z) (Bernoulli): Decoder_X(\n",
      "    (fc_d): Sequential(\n",
      "      (0): Linear(in_features=256, out_features=1024, bias=True)\n",
      "      (1): BatchNorm1d(1024, eps=1e-05, momentum=0.1, affine=True, track_running_stats=True)\n",
      "      (2): LeakyReLU(negative_slope=0.2)\n",
      "      (3): Linear(in_features=1024, out_features=8192, bias=True)\n",
      "      (4): LeakyReLU(negative_slope=0.2)\n",
      "    )\n",
      "    (conv_d): Sequential(\n",
      "      (0): ConvTranspose2d(128, 64, kernel_size=(4, 4), stride=(2, 2), padding=(1, 1))\n",
      "      (1): BatchNorm2d(64, eps=1e-05, momentum=0.1, affine=True, track_running_stats=True)\n",
      "      (2): LeakyReLU(negative_slope=0.2)\n",
      "      (3): ConvTranspose2d(64, 32, kernel_size=(4, 4), stride=(2, 2), padding=(1, 1))\n",
      "      (4): BatchNorm2d(32, eps=1e-05, momentum=0.1, affine=True, track_running_stats=True)\n",
      "      (5): LeakyReLU(negative_slope=0.2)\n",
      "      (6): ConvTranspose2d(32, 1, kernel_size=(4, 4), stride=(2, 2), padding=(1, 1))\n",
      "      (7): Sigmoid()\n",
      "    )\n",
      "  )\n",
      "KL[p(z|x,y1,y2,y3,y4)||p_prior(z)] + KL[p(z|x,y1,y2,y3,y4)||p(z|x)] + KL[p(z|x,y1,y2,y3,y4)||p(z|y1,y2,y3,y4)]\n",
      "Distributions (for training): \n",
      "  p(z|x,y1,y2,y3,y4), p(x,y1,y2,y3,y4|z), p(z|x), p(z|y1,y2,y3,y4) \n",
      "Loss function: \n",
      "  mean(-(E_p(z|x,y1,y2,y3,y4)[log p(x,y1,y2,y3,y4|z)]) + KL[p(z|x,y1,y2,y3,y4)||p_prior(z)] + KL[p(z|x,y1,y2,y3,y4)||p(z|x)] + KL[p(z|x,y1,y2,y3,y4)||p(z|y1,y2,y3,y4)]) \n",
      "Optimizer: \n",
      "  Adam (\n",
      "  Parameter Group 0\n",
      "      amsgrad: False\n",
      "      betas: (0.9, 0.999)\n",
      "      eps: 1e-08\n",
      "      lr: 0.001\n",
      "      weight_decay: 0\n",
      "  )\n"
     ]
    }
   ],
   "source": [
    "z_dim = 256\n",
    "\n",
    "loc = torch.tensor(0.).to(device)\n",
    "scale = torch.tensor(1.).to(device)\n",
    "prior = Normal(loc=loc, scale=scale, var=[\"z\"], dim=z_dim, name=\"p_prior\")\n",
    "\n",
    "# encoder\n",
    "q_y1 = Encoder_Y1().to(device)\n",
    "q_y2 = Encoder_Y2().to(device)\n",
    "q_y3 = Encoder_Y3().to(device)\n",
    "q_y4 = Encoder_Y4().to(device)\n",
    "q_y = ProductOfNormal([q_y1, q_y2, q_y3, q_y4])\n",
    "\n",
    "q = Encoder_XY().to(device)\n",
    "q_x = Encoder_X().to(device)\n",
    "\n",
    "# decoder\n",
    "p_x = Decoder_X().to(device)\n",
    "p_y1 = Decoder_Y1().to(device)\n",
    "p_y2 = Decoder_Y2().to(device)\n",
    "p_y3 = Decoder_Y3().to(device)\n",
    "p_y4 = Decoder_Y4().to(device)\n",
    "\n",
    "p = p_x * p_y1 * p_y2 * p_y3 * p_y4\n",
    "print(p)\n",
    "\n",
    "\n",
    "kl = KullbackLeibler(q, prior)\n",
    "kl_x = KullbackLeibler(q, q_x)\n",
    "kl_y = KullbackLeibler(q, q_y)\n",
    "\n",
    "regularizer = kl + kl_x + kl_y\n",
    "print(regularizer)\n",
    "\n",
    "model = VAE(q, p, other_distributions=[q_x, q_y],\n",
    "            regularizer=regularizer, optimizer=optim.Adam, optimizer_params={\"lr\":1e-3})\n",
    "print(model)\n",
    "\n",
    "experiment_name =  'JMVAE_expert_MNIST_A_z_dim{}'.format(z_dim)"
   ]
  },
  {
   "cell_type": "markdown",
   "metadata": {},
   "source": [
    "# train"
   ]
  },
  {
   "cell_type": "code",
   "execution_count": null,
   "metadata": {
    "scrolled": true
   },
   "outputs": [
    {
     "name": "stderr",
     "output_type": "stream",
     "text": [
      "33it [00:03, 10.97it/s]"
     ]
    }
   ],
   "source": [
    "#%debug\n",
    "for i in range(10):\n",
    "    for batch_idx, (x, y) in tqdm(enumerate(train_loader)):\n",
    "        x = x.to(device)\n",
    "        y = y.to(device)\n",
    "        loss = model.train({\"x\": x, \"y1\": y[:, :1], \"y2\": y[:, 1:4], \"y3\": y[:, 4:8], \"y4\": y[:, 8:]})\n",
    " \n",
    "        if (batch_idx+1)%1000==0:\n",
    "            print(\"train\")\n",
    "            encoder_plot(train_loader, q_x, p_x, conditional=False)\n",
    "            print(\"valid\")\n",
    "            encoder_plot(valid_loader, q_x, p_x, conditional=False)\n"
   ]
  },
  {
   "cell_type": "code",
   "execution_count": null,
   "metadata": {},
   "outputs": [],
   "source": [
    "torch.save(p_x.state_dict(), join(log_dir, 'px_{}.pkl'.format(experiment_name)))\n",
    "torch.save(p_y1.state_dict(), join(log_dir, 'py1_{}.pkl'.format(experiment_name)))\n",
    "torch.save(p_y2.state_dict(), join(log_dir, 'py2_{}.pkl'.format(experiment_name)))\n",
    "torch.save(p_y3.state_dict(), join(log_dir, 'py3_{}.pkl'.format(experiment_name)))\n",
    "torch.save(p_y4.state_dict(), join(log_dir, 'py4_{}.pkl'.format(experiment_name)))\n",
    "torch.save(q_x.state_dict(), join(log_dir, 'qx_{}.pkl'.format(experiment_name)))\n",
    "torch.save(q_y1.state_dict(), join(log_dir, 'qy1_{}.pkl'.format(experiment_name)))\n",
    "torch.save(q_y2.state_dict(), join(log_dir, 'qy2_{}.pkl'.format(experiment_name)))\n",
    "torch.save(q_y3.state_dict(), join(log_dir, 'qy3_{}.pkl'.format(experiment_name)))\n",
    "torch.save(q_y4.state_dict(), join(log_dir, 'qy4_{}.pkl'.format(experiment_name)))\n",
    "torch.save(q.state_dict(), join(log_dir, 'q_{}.pkl'.format(experiment_name)))"
   ]
  },
  {
   "cell_type": "markdown",
   "metadata": {},
   "source": [
    "# 検証\n",
    "\n",
    "- train dataにある属性なら生成できるのか\n",
    "- test dataにある属性は生成できないのか"
   ]
  },
  {
   "cell_type": "code",
   "execution_count": null,
   "metadata": {},
   "outputs": [],
   "source": [
    "p_x.load_state_dict(torch.load(join(log_dir, 'px_{}.pkl'.format(experiment_name))))\n",
    "q_y1.load_state_dict(torch.load(join(log_dir, 'qy1_{}.pkl'.format(experiment_name))))\n",
    "q_y2.load_state_dict(torch.load(join(log_dir, 'qy2_{}.pkl'.format(experiment_name))))\n",
    "q_y3.load_state_dict(torch.load(join(log_dir, 'qy3_{}.pkl'.format(experiment_name))))\n",
    "q_y4.load_state_dict(torch.load(join(log_dir, 'qy4_{}.pkl'.format(experiment_name))))"
   ]
  },
  {
   "cell_type": "markdown",
   "metadata": {},
   "source": [
    "## testデータ"
   ]
  },
  {
   "cell_type": "code",
   "execution_count": null,
   "metadata": {},
   "outputs": [],
   "source": [
    "p_x.eval()\n",
    "q_y = ProductOfNormal([q_y1, q_y2, q_y3, q_y4])\n",
    "q_y.eval()\n",
    "\n",
    "sample_size = 5\n",
    "attr_size = 10\n",
    "label = []\n",
    "for j in range(attr_size):\n",
    "        for i in range(sample_size):\n",
    "            label.append(test_label_attr[j])\n",
    "label = np.array(label)\n",
    "onehot_label = torch.FloatTensor(label2onehot(np.array(label)))\n",
    "onehot_label = onehot_label.to(device)\n",
    "\n",
    "z = q_y.sample({\"y1\": onehot_label[:, :1], \"y2\": onehot_label[:, 1:4], \"y3\": onehot_label[:, 4:8], \"y4\": onehot_label[:, 8:]})[\"z\"]\n",
    "samples = p_x.sample_mean({\"z\": z})\n",
    "p_y1, p_y2, p_y3, p_y4 = classifier(samples)\n",
    "pred = onehot2label(torch.cat([p_y1[:, None], p_y2, p_y3, p_y4], 1))\n",
    "samples_ = samples.cpu().data.numpy().transpose(0, 2, 3, 1).squeeze()\n",
    "plt.figure(figsize=(sample_size*3, attr_size*3))\n",
    "for i in range(sample_size*attr_size):\n",
    "    plt.subplot(attr_size, sample_size, i+1)\n",
    "    plt.xticks([])\n",
    "    plt.yticks([])\n",
    "    classifier(samples)\n",
    "    plt.title(\"T: {}, P: {}\".format(label[i], pred[i]))\n",
    "    plt.imshow(samples_[i], plt.cm.gray)\n",
    "plt.show()"
   ]
  },
  {
   "cell_type": "code",
   "execution_count": null,
   "metadata": {
    "scrolled": true
   },
   "outputs": [],
   "source": [
    "# accuracy\n",
    "accuracy_data = (pred == label).sum(1) == 4\n",
    "accuracy_data.sum() / len(accuracy_data)"
   ]
  },
  {
   "cell_type": "markdown",
   "metadata": {},
   "source": [
    "## 訓練データ"
   ]
  },
  {
   "cell_type": "code",
   "execution_count": null,
   "metadata": {},
   "outputs": [],
   "source": [
    "p_x.eval()\n",
    "q_y = ProductOfNormal([q_y1, q_y2, q_y3, q_y4])\n",
    "q_y.eval()\n",
    "\n",
    "sample_size = 5\n",
    "attr_size = 10\n",
    "label = []\n",
    "for j in range(attr_size):\n",
    "        for i in range(sample_size):\n",
    "            label.append(train_label_attr[j])\n",
    "label = np.array(label)\n",
    "onehot_label = torch.FloatTensor(label2onehot(np.array(label)))\n",
    "onehot_label = onehot_label.to(device)\n",
    "\n",
    "z = q_y.sample({\"y1\": onehot_label[:, :1], \"y2\": onehot_label[:, 1:4], \"y3\": onehot_label[:, 4:8], \"y4\": onehot_label[:, 8:]})[\"z\"]\n",
    "samples = p_x.sample_mean({\"z\": z})\n",
    "p_y1, p_y2, p_y3, p_y4 = classifier(samples)\n",
    "pred = onehot2label(torch.cat([p_y1[:, None], p_y2, p_y3, p_y4], 1))\n",
    "samples_ = samples.cpu().data.numpy().transpose(0, 2, 3, 1).squeeze()\n",
    "plt.figure(figsize=(sample_size*3, attr_size*3))\n",
    "for i in range(sample_size*attr_size):\n",
    "    plt.subplot(attr_size, sample_size, i+1)\n",
    "    plt.xticks([])\n",
    "    plt.yticks([])\n",
    "    classifier(samples)\n",
    "    plt.title(\"T: {}, P: {}\".format(label[i], pred[i]))\n",
    "    plt.imshow(samples_[i], plt.cm.gray)\n",
    "plt.show()"
   ]
  },
  {
   "cell_type": "code",
   "execution_count": null,
   "metadata": {},
   "outputs": [],
   "source": [
    "# accuracy\n",
    "accuracy_data = (pred == label).sum(1) == 4\n",
    "accuracy_data.sum() / len(accuracy_data)"
   ]
  },
  {
   "cell_type": "code",
   "execution_count": null,
   "metadata": {},
   "outputs": [],
   "source": []
  }
 ],
 "metadata": {
  "accelerator": "GPU",
  "colab": {
   "collapsed_sections": [],
   "default_view": {},
   "name": "180221-variational-autoencoder.ipynb",
   "provenance": [],
   "version": "0.3.2",
   "views": {}
  },
  "kernelspec": {
   "display_name": "Python 3",
   "language": "python",
   "name": "python3"
  },
  "language_info": {
   "codemirror_mode": {
    "name": "ipython",
    "version": 3
   },
   "file_extension": ".py",
   "mimetype": "text/x-python",
   "name": "python",
   "nbconvert_exporter": "python",
   "pygments_lexer": "ipython3",
   "version": "3.5.5"
  }
 },
 "nbformat": 4,
 "nbformat_minor": 1
}
