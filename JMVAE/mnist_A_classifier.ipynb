{
 "cells": [
  {
   "cell_type": "code",
   "execution_count": 2,
   "metadata": {},
   "outputs": [
    {
     "name": "stdout",
     "output_type": "stream",
     "text": [
      "cuda\n"
     ]
    }
   ],
   "source": [
    "import os\n",
    "from os.path import join, exists\n",
    "import matplotlib.pyplot as plt\n",
    "\n",
    "import torch\n",
    "import torch.nn as nn\n",
    "import torch.optim as optim\n",
    "import numpy as np\n",
    "from tqdm import tqdm\n",
    "from sklearn.metrics import confusion_matrix, classification_report, precision_score\n",
    "\n",
    "from mnist_A_data_loader import get_mnist_A_loader\n",
    "from models import *\n",
    "from utils import *\n",
    "\n",
    "device = torch.device(\"cuda\" if torch.cuda.is_available() else \"cpu\")\n",
    "print(device)"
   ]
  },
  {
   "cell_type": "code",
   "execution_count": 3,
   "metadata": {},
   "outputs": [],
   "source": [
    "unique_label = []\n",
    "for i in range(2):\n",
    "    for j in range(3):\n",
    "        for k in range(4):\n",
    "            for l in range(10):\n",
    "                unique_label.append([i, j, k, l])\n",
    "unique_label = np.array(unique_label)"
   ]
  },
  {
   "cell_type": "code",
   "execution_count": 5,
   "metadata": {},
   "outputs": [],
   "source": [
    "train_loader = get_mnist_A_loader(\"../data/MNIST_A/train_X/\",\n",
    "                                  \"../data/MNIST_A/train_y.npy\", unique_label, onehot=False)\n",
    "test_loader = get_mnist_A_loader(\"../data/MNIST_A/test_X/\",\n",
    "                                 \"../data/MNIST_A/test_y.npy\", unique_label, onehot=False, mode=\"test\")\n",
    "valid_loader = get_mnist_A_loader(\"./data/MNIST_A/valid_X/\",\n",
    "                                  \"../data/MNIST_A/valid_y.npy\", unique_label, onehot=False, mode=\"valid\")"
   ]
  },
  {
   "cell_type": "code",
   "execution_count": 7,
   "metadata": {
    "scrolled": true
   },
   "outputs": [
    {
     "data": {
      "image/png": "[encoded data removed]",
      "text/plain": [
       "<matplotlib.figure.Figure at 0x7f49eb243a90>"
      ]
     },
     "metadata": {},
     "output_type": "display_data"
    }
   ],
   "source": [
    "x, y = iter(test_loader).next()\n",
    "plt.imshow(x[4][0].numpy(), plt.cm.gray)\n",
    "plt.show()"
   ]
  },
  {
   "cell_type": "code",
   "execution_count": 5,
   "metadata": {},
   "outputs": [],
   "source": [
    "classifier = MNIST_A_Classifier().to(device)\n",
    "criterion_ce = nn.CrossEntropyLoss()\n",
    "criterion_bce = nn.BCELoss()\n",
    "optimizer = optim.Adam(classifier.parameters(), lr=5e-4)"
   ]
  },
  {
   "cell_type": "markdown",
   "metadata": {},
   "source": [
    "# 訓練"
   ]
  },
  {
   "cell_type": "code",
   "execution_count": null,
   "metadata": {
    "scrolled": true
   },
   "outputs": [],
   "source": [
    "classifier.train()\n",
    "\n",
    "loss_plot = []\n",
    "for epoch in range(3):\n",
    "    for batch_idx, (x, y) in tqdm(enumerate(train_loader)):\n",
    "        x = x.to(device)\n",
    "        y = y.to(device)\n",
    "        y1 = y[:, 0]\n",
    "        y2 = y[:, 1].long()\n",
    "        y3 = y[:, 2].long()\n",
    "        y4 = y[:, 3].long()\n",
    "        \n",
    "        optimizer.zero_grad()\n",
    "\n",
    "        pred_y1, pred_y2, pred_y3, pred_y4 = classifier(x)\n",
    "        loss1 = criterion_bce(pred_y1, y1)\n",
    "        loss2 = criterion_ce(pred_y2, y2)\n",
    "        loss3 = criterion_ce(pred_y3, y3)\n",
    "        loss4 = criterion_ce(pred_y4, y4)\n",
    "        loss = loss1 + loss2 + loss3 + loss4\n",
    "        \n",
    "        loss.backward()\n",
    "        optimizer.step()\n",
    "        \n",
    "        loss_plot.append(loss.detach())\n",
    "        \n",
    "        if (batch_idx+1)%1000==0:\n",
    "            plt.plot(loss_plot)\n",
    "            plt.show()\n",
    "\n",
    "log_dir = \"logs\"\n",
    "if not exists(log_dir):\n",
    "    os.makedirs(log_dir)\n",
    "torch.save(classifier.state_dict(), join(log_dir, 'MNIST_A_classifier.pkl'))"
   ]
  },
  {
   "cell_type": "markdown",
   "metadata": {},
   "source": [
    "テスト"
   ]
  },
  {
   "cell_type": "code",
   "execution_count": 6,
   "metadata": {},
   "outputs": [
    {
     "name": "stderr",
     "output_type": "stream",
     "text": [
      "188it [00:09, 20.58it/s]\n"
     ]
    },
    {
     "name": "stdout",
     "output_type": "stream",
     "text": [
      "size\n",
      "[[11992     8]\n",
      " [    0 12000]]\n",
      "             precision    recall  f1-score   support\n",
      "\n",
      "        0.0       1.00      1.00      1.00     12000\n",
      "        1.0       1.00      1.00      1.00     12000\n",
      "\n",
      "avg / total       1.00      1.00      1.00     24000\n",
      "\n",
      "0.999666888741\n",
      "\n",
      "rotation\n",
      "[[7899   37   64]\n",
      " [   0 8000    0]\n",
      " [  71   35 7894]]\n",
      "             precision    recall  f1-score   support\n",
      "\n",
      "        0.0       0.99      0.99      0.99      8000\n",
      "        1.0       0.99      1.00      1.00      8000\n",
      "        2.0       0.99      0.99      0.99      8000\n",
      "\n",
      "avg / total       0.99      0.99      0.99     24000\n",
      "\n",
      "0.991376549771\n",
      "\n",
      "position\n",
      "[[6000    0    0    0]\n",
      " [   0 6000    0    0]\n",
      " [   0    0 6000    0]\n",
      " [   0    0    0 6000]]\n",
      "             precision    recall  f1-score   support\n",
      "\n",
      "        0.0       1.00      1.00      1.00      6000\n",
      "        1.0       1.00      1.00      1.00      6000\n",
      "        2.0       1.00      1.00      1.00      6000\n",
      "        3.0       1.00      1.00      1.00      6000\n",
      "\n",
      "avg / total       1.00      1.00      1.00     24000\n",
      "\n",
      "1.0\n",
      "\n",
      "label\n",
      "[[2355    1    6    3    1    5   13    1   11    4]\n",
      " [   0 2325   14    8   18    4    1   11   18    1]\n",
      " [   1   13 2296    9   18    1    3   33   26    0]\n",
      " [   3    3   34 2287    3   21    8   14   23    4]\n",
      " [   0    1    8    5 2334    9    4    7    4   28]\n",
      " [   3    3    0   28    7 2304   16    2   26   11]\n",
      " [   3    2    1    6   11   27 2327    0   22    1]\n",
      " [   0    2   52    9   11    8    0 2294   10   14]\n",
      " [   7    6   28   10   12    9    8    4 2297   19]\n",
      " [   5    4    1   29   66   33    6   44   46 2166]]\n",
      "             precision    recall  f1-score   support\n",
      "\n",
      "        0.0       0.99      0.98      0.99      2400\n",
      "        1.0       0.99      0.97      0.98      2400\n",
      "        2.0       0.94      0.96      0.95      2400\n",
      "        3.0       0.96      0.95      0.95      2400\n",
      "        4.0       0.94      0.97      0.96      2400\n",
      "        5.0       0.95      0.96      0.96      2400\n",
      "        6.0       0.98      0.97      0.97      2400\n",
      "        7.0       0.95      0.96      0.95      2400\n",
      "        8.0       0.93      0.96      0.94      2400\n",
      "        9.0       0.96      0.90      0.93      2400\n",
      "\n",
      "avg / total       0.96      0.96      0.96     24000\n",
      "\n",
      "0.958037861357\n",
      "\n"
     ]
    }
   ],
   "source": [
    "log_dir = \"./logs\"\n",
    "classifier = MNIST_A_Classifier().to(device)\n",
    "classifier.load_state_dict(torch.load(join(log_dir, 'MNIST_A_classifier.pkl')))\n",
    "classifier.eval()\n",
    "\n",
    "preds = []\n",
    "ys = []\n",
    "for batch_idx, (data, label) in tqdm(enumerate(test_loader)):\n",
    "    with torch.no_grad():\n",
    "        data = data.to(device)\n",
    "        pred_y1, pred_y2, pred_y3, pred_y4 = classifier(data)\n",
    "        pred = torch.cat([pred_y1[:, None], pred_y2, pred_y3, pred_y4], 1)\n",
    "        ys.extend(label.numpy())\n",
    "        preds.extend(onehot2label(pred))\n",
    "\n",
    "preds = np.array(preds)\n",
    "ys = np.array(ys)\n",
    "\n",
    "for i, title in enumerate([\"size\", \"rotation\", \"position\", \"label\"]):\n",
    "    print(title)\n",
    "    print(confusion_matrix(ys[:, i], preds[:, i]))\n",
    "    print(classification_report(ys[:, i], preds[:, i]))\n",
    "    print(precision_score(ys[:, i], preds[:, i], average='macro'))\n",
    "    print(\"\")"
   ]
  }
 ],
 "metadata": {
  "kernelspec": {
   "display_name": "Python 3",
   "language": "python",
   "name": "python3"
  },
  "language_info": {
   "codemirror_mode": {
    "name": "ipython",
    "version": 3
   },
   "file_extension": ".py",
   "mimetype": "text/x-python",
   "name": "python",
   "nbconvert_exporter": "python",
   "pygments_lexer": "ipython3",
   "version": "3.5.5"
  }
 },
 "nbformat": 4,
 "nbformat_minor": 2
}
